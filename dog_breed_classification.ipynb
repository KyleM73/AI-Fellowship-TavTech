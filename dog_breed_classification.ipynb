{
 "cells": [
  {
   "cell_type": "code",
   "execution_count": 113,
   "metadata": {},
   "outputs": [],
   "source": [
    "import keras \n",
    "from keras import applications\n",
    "import matplotlib.pylab as plt\n",
    "%matplotlib inline\n",
    "\n",
    "import random\n",
    "import time"
   ]
  },
  {
   "cell_type": "code",
   "execution_count": 114,
   "metadata": {
    "collapsed": true
   },
   "outputs": [],
   "source": [
    "# load trained vgg 16\n",
    "pretrained_vgg_16 = applications.VGG16(weights= 'imagenet', include_top= True)"
   ]
  },
  {
   "cell_type": "code",
   "execution_count": 115,
   "metadata": {
    "collapsed": true
   },
   "outputs": [],
   "source": [
    "from keras.models import Model\n",
    "\n",
    "# found with pretrained_vgg_16.layers[-2].get_config()\n",
    "layer_name = 'fc2'\n",
    "\n",
    "#get penultimate activation layer (relu activation layer)\n",
    "intermediate_layer_model = Model(inputs = pretrained_vgg_16.input, outputs = pretrained_vgg_16.get_layer(layer_name).output)"
   ]
  },
  {
   "cell_type": "code",
   "execution_count": null,
   "metadata": {},
   "outputs": [],
   "source": [
    "import os\n",
    "\n",
    "#create list of all image paths to add the database\n",
    "folder = \"train_dog_breeds\"\n",
    "\n",
    "image_list = []\n",
    "\n",
    "folder_list = os.listdir(folder)\n",
    "for image_name in folder_list:\n",
    "    image_path = os.path.join(folder, image_name)\n",
    "    image_list.append(image_path)"
   ]
  },
  {
   "cell_type": "code",
   "execution_count": null,
   "metadata": {},
   "outputs": [],
   "source": [
    "import cv2\n",
    "\n",
    "feature_list = []\n",
    "image_database = []\n",
    "\n",
    "for image in image_list[:200]:\n",
    "    #read image\n",
    "    image = cv2.imread(image)\n",
    "    #convert from BGR to RGB\n",
    "    image = cv2.cvtColor(image, cv2.COLOR_BGR2RGB)\n",
    "    #add image to image_list\n",
    "    image_database.append(image)\n",
    "    #resize for VGG\n",
    "    image = cv2.resize(image, (224, 224))\n",
    "    \n",
    "    #add dummy dimenstion\n",
    "    image = image[None]\n",
    "    #extract feature vec for each image\n",
    "    feature_vec = intermediate_layer_model.predict(image)\n",
    "    #concatonate vector to one big list\n",
    "    feature_list.append(feature_vec.ravel())"
   ]
  },
  {
   "cell_type": "code",
   "execution_count": null,
   "metadata": {},
   "outputs": [],
   "source": [
    "#turn list into array and run nearest neighbors on database\n",
    "\n",
    "import numpy as np\n",
    "np.array(feature_list).shape"
   ]
  },
  {
   "cell_type": "code",
   "execution_count": null,
   "metadata": {},
   "outputs": [],
   "source": [
    "from sklearn.neighbors import NearestNeighbors\n",
    "\n",
    "#get 3 nearest neighbors (0 is the image)\n",
    "neighbors = NearestNeighbors(n_neighbors=6)\n",
    "\n",
    "#\"train data\" (organizes NN data to make querying faster)\n",
    "neighbors.fit(feature_list)"
   ]
  },
  {
   "cell_type": "code",
   "execution_count": null,
   "metadata": {},
   "outputs": [],
   "source": [
    "import pandas as pd\n",
    "dog_labels = pd.read_csv('~/Code/dog-labels.csv')"
   ]
  },
  {
   "cell_type": "code",
   "execution_count": null,
   "metadata": {},
   "outputs": [],
   "source": [
    "query_image_index = 1\n",
    "distances, indicies = neighbors.kneighbors(feature_list[query_image_index][None])"
   ]
  },
  {
   "cell_type": "code",
   "execution_count": null,
   "metadata": {
    "collapsed": true
   },
   "outputs": [],
   "source": [
    "query_image_name = image_list[query_image_index]\n",
    "nn_image_names = [image_list[image_ind] for image_ind in indicies.ravel()]"
   ]
  },
  {
   "cell_type": "code",
   "execution_count": null,
   "metadata": {},
   "outputs": [],
   "source": [
    "plt.figure()\n",
    "query_image = cv2.imread(query_image_name)\n",
    "query_image = cv2.cvtColor(query_image,cv2.COLOR_BGR2RGB)\n",
    "plt.imshow(query_image)\n",
    "\n",
    "plt.figure(figsize=(50,50))\n",
    "for nn_index in range(5):\n",
    "    nn_image = cv2.imread(nn_image_names[nn_index+1])\n",
    "    nn_image = cv2.cvtColor(nn_image,cv2.COLOR_BGR2RGB)\n",
    "    plt.subplot(1,5,nn_index+1)\n",
    "    plt.imshow(nn_image)"
   ]
  },
  {
   "cell_type": "code",
   "execution_count": null,
   "metadata": {},
   "outputs": [],
   "source": [
    "import pickle\n",
    "with open('dogs_features_dict.pickle','rb') as f:\n",
    "    data = pickle.load(f, encoding= 'latin1')"
   ]
  },
  {
   "cell_type": "code",
   "execution_count": null,
   "metadata": {},
   "outputs": [],
   "source": [
    "resnet_neigh = NearestNeighbors(n_neighbors=6)\n",
    "resnet_feature_vec_list = list(data.values())\n",
    "resnet_neigh.fit(resnet_feature_vec_list)"
   ]
  },
  {
   "cell_type": "code",
   "execution_count": null,
   "metadata": {},
   "outputs": [],
   "source": [
    "print(resnet_feature_vec_list)"
   ]
  },
  {
   "cell_type": "code",
   "execution_count": null,
   "metadata": {
    "collapsed": true
   },
   "outputs": [],
   "source": [
    "query_image_index = 1\n",
    "distances, indicies = resnet_neigh.kneighbors(resnet_feature_vec_list[query_image_index][None])"
   ]
  },
  {
   "cell_type": "code",
   "execution_count": null,
   "metadata": {
    "collapsed": true
   },
   "outputs": [],
   "source": [
    "resnet_image_list = list(data.keys())"
   ]
  },
  {
   "cell_type": "code",
   "execution_count": null,
   "metadata": {},
   "outputs": [],
   "source": [
    "print(resnet_image_list)"
   ]
  },
  {
   "cell_type": "code",
   "execution_count": null,
   "metadata": {
    "collapsed": true
   },
   "outputs": [],
   "source": [
    "query_image_name = resnet_image_list[query_image_index]\n",
    "nn_image_names = [resnet_image_list[image_ind] for image_ind in indicies.ravel()]"
   ]
  },
  {
   "cell_type": "code",
   "execution_count": null,
   "metadata": {},
   "outputs": [],
   "source": [
    "plt.figure()\n",
    "query_image = cv2.imread(os.path.join(folder,query_image_name))\n",
    "query_image = cv2.cvtColor(query_image,cv2.COLOR_BGR2RGB)\n",
    "plt.imshow(query_image)\n",
    "\n",
    "plt.figure(figsize=(50,50))\n",
    "for nn_index in range(3):\n",
    "    nn_image = cv2.imread(os.path.join(folder,nn_image_names[nn_index+1]))\n",
    "    nn_image = cv2.cvtColor(nn_image,cv2.COLOR_BGR2RGB)\n",
    "    plt.subplot(1,5,nn_index+1)\n",
    "    plt.imshow(nn_image)"
   ]
  },
  {
   "cell_type": "code",
   "execution_count": null,
   "metadata": {
    "collapsed": true
   },
   "outputs": [],
   "source": [
    "X = list(data.values())\n",
    "image_name = list(data.keys())\n",
    "import pandas as pd\n",
    "labels_df = pd.read_csv('dog-labels.csv')"
   ]
  },
  {
   "cell_type": "code",
   "execution_count": null,
   "metadata": {},
   "outputs": [],
   "source": [
    "image_name_trimmed = [im_name.split('.')[0] for im_name in image_name]"
   ]
  },
  {
   "cell_type": "code",
   "execution_count": null,
   "metadata": {
    "collapsed": true
   },
   "outputs": [],
   "source": [
    "Y_list = []\n",
    "for im_name in image_name_trimmed:\n",
    "    dog_breed_label = labels_df[labels_df['id'] == im_name]['breed'].values[0]\n",
    "    Y_list.append(dog_breed_label)"
   ]
  },
  {
   "cell_type": "code",
   "execution_count": null,
   "metadata": {},
   "outputs": [],
   "source": [
    "Y_list"
   ]
  },
  {
   "cell_type": "code",
   "execution_count": null,
   "metadata": {
    "collapsed": true
   },
   "outputs": [],
   "source": [
    "X = np.array(X)\n",
    "X_train = X[:8000]\n",
    "Y_train = Y_list[:8000]\n",
    "\n",
    "X_val = X[8000:9000]\n",
    "Y_val = Y_list[8000:9000]\n",
    "\n",
    "X_test = X[9000:]\n",
    "Y_test = Y_list[9000:]"
   ]
  },
  {
   "cell_type": "code",
   "execution_count": null,
   "metadata": {
    "collapsed": true
   },
   "outputs": [],
   "source": [
    "from sklearn.svm import LinearSVC"
   ]
  },
  {
   "cell_type": "code",
   "execution_count": null,
   "metadata": {},
   "outputs": [],
   "source": [
    "my_svm = LinearSVC(C=.0001)\n",
    "my_svm.fit(X_train,Y_train)"
   ]
  },
  {
   "cell_type": "code",
   "execution_count": null,
   "metadata": {},
   "outputs": [],
   "source": [
    "my_svm.score(X_val,Y_val)"
   ]
  },
  {
   "cell_type": "code",
   "execution_count": null,
   "metadata": {
    "collapsed": true
   },
   "outputs": [],
   "source": [
    "val_pred = my_svm.predict(X_val)"
   ]
  },
  {
   "cell_type": "code",
   "execution_count": null,
   "metadata": {},
   "outputs": [],
   "source": [
    "val_pred[:10]"
   ]
  },
  {
   "cell_type": "code",
   "execution_count": null,
   "metadata": {},
   "outputs": [],
   "source": [
    "Y_val[:10]"
   ]
  },
  {
   "cell_type": "code",
   "execution_count": null,
   "metadata": {
    "collapsed": true
   },
   "outputs": [],
   "source": [
    "from keras.applications.resnet50 import ResNet50\n",
    "from keras.preprocessing import image\n",
    "from keras.applications.resnet50 import preprocess_input, decode_predictions\n",
    "import numpy as np\n",
    "\n",
    "model = ResNet50(weights='imagenet')"
   ]
  },
  {
   "cell_type": "code",
   "execution_count": null,
   "metadata": {
    "collapsed": true
   },
   "outputs": [],
   "source": [
    "#Example 1"
   ]
  },
  {
   "cell_type": "code",
   "execution_count": null,
   "metadata": {},
   "outputs": [],
   "source": [
    "img_path = '/Users/Kyle/Code/sophiedog1.jpg'\n",
    "img = image.load_img(img_path, target_size=(224, 224))\n",
    "x = image.img_to_array(img)\n",
    "x = np.expand_dims(x, axis=0)\n",
    "x = preprocess_input(x)\n",
    "\n",
    "preds = model.predict(x)\n",
    "# decode the results into a list of tuples (class, description, probability)\n",
    "# (one such list for each sample in the batch)\n",
    "print('Predicted:', decode_predictions(preds, top=3)[0])\n",
    "# Predicted: [(u'n02504013', u'Indian_elephant', 0.82658225), (u'n01871265', u'tusker', 0.1122357), (u'n02504458', u'African_elephant', 0.061040461)]\n"
   ]
  },
  {
   "cell_type": "code",
   "execution_count": null,
   "metadata": {},
   "outputs": [],
   "source": [
    "img"
   ]
  },
  {
   "cell_type": "code",
   "execution_count": 105,
   "metadata": {
    "collapsed": true
   },
   "outputs": [],
   "source": [
    "#Example 2"
   ]
  },
  {
   "cell_type": "code",
   "execution_count": null,
   "metadata": {},
   "outputs": [],
   "source": [
    "img_path2 = '/Users/Kyle/Code/coledog1.jpg'\n",
    "img2 = image.load_img(img_path2, target_size=(224, 224))\n",
    "x2 = image.img_to_array(img2)\n",
    "x2 = np.expand_dims(x2, axis=0)\n",
    "x2 = preprocess_input(x2)\n",
    "\n",
    "preds = model.predict(x2)\n",
    "# decode the results into a list of tuples (class, description, probability)\n",
    "# (one such list for each sample in the batch)\n",
    "print('Predicted:', decode_predictions(preds, top=3)[0])\n",
    "# Predicted: [(u'n02504013', u'Indian_elephant', 0.82658225), (u'n01871265', u'tusker', 0.1122357), (u'n02504458', u'African_elephant', 0.061040461)]\n"
   ]
  },
  {
   "cell_type": "code",
   "execution_count": null,
   "metadata": {
    "collapsed": true
   },
   "outputs": [],
   "source": [
    "img2"
   ]
  }
 ],
 "metadata": {
  "kernelspec": {
   "display_name": "Python 3",
   "language": "python",
   "name": "python3"
  },
  "language_info": {
   "codemirror_mode": {
    "name": "ipython",
    "version": 3
   },
   "file_extension": ".py",
   "mimetype": "text/x-python",
   "name": "python",
   "nbconvert_exporter": "python",
   "pygments_lexer": "ipython3",
   "version": "3.6.3"
  }
 },
 "nbformat": 4,
 "nbformat_minor": 2
}
